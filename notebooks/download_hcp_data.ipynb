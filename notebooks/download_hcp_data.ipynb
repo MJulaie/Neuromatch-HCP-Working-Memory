{
 "cells": [
  {
   "cell_type": "markdown",
   "metadata": {
    "execution": {},
    "id": "rsAF7T220E9X"
   },
   "source": [
    "# Downloading data\n",
    "\n",
    "The rest and task data are shared in different files, but they will unpack into the same directory structure.\n",
    "\n",
    "Each file is fairly large and will take some time to download. If you are focusing only on rest or task analyses, you may not want to download only that dataset.\n",
    "\n",
    "We also separately provide some potentially useful behavioral covariate information."
   ]
  },
  {
   "cell_type": "code",
   "execution_count": null,
   "metadata": {
    "cellView": "form",
    "id": "wOjMnHNg0E9Y",
    "outputId": "47ac00c7-bf46-473a-dcde-e9ea3f0ee949"
   },
   "outputs": [
    {
     "name": "stdout",
     "output_type": "stream",
     "text": [
      "Downloading hcp_rest.tgz...\n",
      "Download hcp_rest.tgz completed!\n"
     ]
    },
    {
     "name": "stdout",
     "output_type": "stream",
     "text": [
      "Downloading hcp_task.tgz...\n"
     ]
    },
    {
     "name": "stdout",
     "output_type": "stream",
     "text": [
      "Download hcp_task.tgz completed!\n"
     ]
    },
    {
     "name": "stdout",
     "output_type": "stream",
     "text": [
      "Downloading hcp_covariates.tgz...\n",
      "Download hcp_covariates.tgz completed!\n"
     ]
    },
    {
     "name": "stdout",
     "output_type": "stream",
     "text": [
      "Downloading atlas.npz...\n",
      "Download atlas.npz completed!\n"
     ]
    }
   ],
   "source": [
    "# @title Download the data\n",
    "\n",
    "# @markdown Task data in `HCP_DIR/hcp_task`, rest in `HCP_DIR/hcp_rest`, covariate in `HCP_DIR/hcp`\n",
    "\n",
    "import os, requests, tarfile\n",
    "\n",
    "fnames = [\"hcp_rest.tgz\",\n",
    "          \"hcp_task.tgz\",\n",
    "          \"hcp_covariates.tgz\",\n",
    "          \"atlas.npz\"]\n",
    "urls = [\"https://osf.io/bqp7m/download\",\n",
    "        \"https://osf.io/s4h8j/download\",\n",
    "        \"https://osf.io/x5p4g/download\",\n",
    "        \"https://osf.io/j5kuc/download\"]\n",
    "\n",
    "for fname, url in zip(fnames, urls):\n",
    "  if not os.path.isfile(fname):\n",
    "    try:\n",
    "      r = requests.get(url)\n",
    "    except requests.ConnectionError:\n",
    "      print(\"!!! Failed to download data !!!\")\n",
    "    else:\n",
    "      if r.status_code != requests.codes.ok:\n",
    "        print(\"!!! Failed to download data !!!\")\n",
    "      else:\n",
    "        print(f\"Downloading {fname}...\")\n",
    "        with open(fname, \"wb\") as fid:\n",
    "          fid.write(r.content)\n",
    "        print(f\"Download {fname} completed!\")"
   ]
  },
  {
   "cell_type": "code",
   "execution_count": null,
   "metadata": {
    "execution": {},
    "id": "I0Kh2uxm0E9Y",
    "outputId": "e77728fa-ab5a-4cb7-ea9d-35f743870c7e"
   },
   "outputs": [
    {
     "name": "stdout",
     "output_type": "stream",
     "text": [
      "Extracting hcp_covariates.tgz...\n"
     ]
    },
    {
     "name": "stdout",
     "output_type": "stream",
     "text": [
      "Extracting hcp_rest.tgz...\n"
     ]
    },
    {
     "name": "stdout",
     "output_type": "stream",
     "text": [
      "Extracting hcp_task.tgz...\n"
     ]
    }
   ],
   "source": [
    "# @title Extract the data in `HCP_DIR`\n",
    "HCP_DIR = \"./DATA\"\n",
    "if not os.path.isdir(HCP_DIR):\n",
    "  os.mkdir(HCP_DIR)\n",
    "fnames = [\"hcp_covariates\", \"hcp_rest\", \"hcp_task\"]\n",
    "\n",
    "for fname in fnames:\n",
    "  # open file\n",
    "  path_name = os.path.join(HCP_DIR, fname)\n",
    "  if not os.path.exists(path_name):\n",
    "    print(f\"Extracting {fname}.tgz...\")\n",
    "    with tarfile.open(f\"{fname}.tgz\") as fzip:\n",
    "      fzip.extractall(HCP_DIR)\n",
    "  else:\n",
    "    print(f\"File {fname}.tgz has already been extracted.\")"
   ]
  }
 ],
 "metadata": {
  "colab": {
   "collapsed_sections": [
    "ZDFPnQ07MmEd",
    "qQzCA99sMryW"
   ],
   "provenance": [],
   "toc_visible": true
  },
  "kernel": {
   "display_name": "Python 3",
   "language": "python",
   "name": "python3"
  },
  "kernelspec": {
   "display_name": "Python 3 (ipykernel)",
   "language": "python",
   "name": "python3"
  },
  "language_info": {
   "codemirror_mode": {
    "name": "ipython",
    "version": 3
   },
   "file_extension": ".py",
   "mimetype": "text/x-python",
   "name": "python",
   "nbconvert_exporter": "python",
   "pygments_lexer": "ipython3",
   "version": "3.11.7"
  }
 },
 "nbformat": 4,
 "nbformat_minor": 4
}
