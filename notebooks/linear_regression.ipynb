{
  "cells": [
    {
      "cell_type": "markdown",
      "metadata": {
        "execution": {},
        "id": "MxvKGdOxpGhq"
      },
      "source": [
        "# Linear Regression Functions"
      ]
    },
    {
      "cell_type": "code",
      "execution_count": 2,
      "metadata": {
        "execution": {},
        "id": "EhwsRR0npGhs"
      },
      "outputs": [],
      "source": [
        "import os\n",
        "import numpy as np\n",
        "import matplotlib.pyplot as plt\n",
        "from sklearn.model_selection import train_test_split\n",
        "from sklearn.linear_model import LinearRegression\n",
        "from sklearn.metrics import mean_squared_error, r2_score\n",
        "from sklearn.model_selection import KFold"
      ]
    },
    {
      "cell_type": "code",
      "execution_count": 3,
      "metadata": {
        "cellView": "form",
        "execution": {},
        "id": "C2l5Di_HpGhs"
      },
      "outputs": [],
      "source": [
        "#@title Figure settings\n",
        "%matplotlib inline\n",
        "%config InlineBackend.figure_format = 'retina'\n",
        "plt.style.use(\"https://raw.githubusercontent.com/NeuromatchAcademy/course-content/master/nma.mplstyle\")"
      ]
    },
    {
      "cell_type": "markdown",
      "source": [
        "## **Training and Fitting**"
      ],
      "metadata": {
        "id": "PoQjyGQWcIvb"
      }
    },
    {
      "cell_type": "code",
      "source": [
        "def train_linear_regression(X_train, y_train):\n",
        "    \"\"\"\n",
        "    Trains a linear regression model.\n",
        "\n",
        "    Parameters:\n",
        "    X_train (numpy array): Training feature matrix.\n",
        "    y_train (numpy array): Training target vector.\n",
        "\n",
        "    Returns:\n",
        "    model: Trained linear regression model.\n",
        "    \"\"\"\n",
        "    model = LinearRegression()\n",
        "    model.fit(X_train, y_train)\n",
        "    return model\n",
        "\n",
        "def predict(model, X_test):\n",
        "    \"\"\"\n",
        "    Makes predictions using the trained linear regression model.\n",
        "\n",
        "    Parameters:\n",
        "    model: Trained linear regression model.\n",
        "    X_test (numpy array): Testing feature matrix.\n",
        "\n",
        "    Returns:\n",
        "    y_pred (numpy array): Predicted target vector.\n",
        "    \"\"\"\n",
        "    y_pred = model.predict(X_test)\n",
        "    return y_pred"
      ],
      "metadata": {
        "id": "33mq-lzHX3kx"
      },
      "execution_count": 4,
      "outputs": []
    },
    {
      "cell_type": "markdown",
      "source": [
        "## **Evaluation Methods**"
      ],
      "metadata": {
        "id": "NHPVA-pUcbl4"
      }
    },
    {
      "cell_type": "code",
      "source": [
        "def split_data(X, y, test_size=0.2, random_state=42):\n",
        "    \"\"\"\n",
        "    Splits the data into training and testing sets.\n",
        "\n",
        "    Parameters:\n",
        "    X (numpy array): Feature matrix.\n",
        "    y (numpy array): Target vector.\n",
        "    test_size (float): Proportion of the dataset to include in the test split.\n",
        "    random_state (int): Seed used by the random number generator.\n",
        "\n",
        "    Returns:\n",
        "    X_train, X_test, y_train, y_test: Split data.\n",
        "    \"\"\"\n",
        "    X_train, X_test, y_train, y_test = train_test_split(X, y, test_size=test_size, random_state=random_state)\n",
        "    return X_train, X_test, y_train, y_test\n",
        "\n",
        "def evaluate_model_mse(y_test, y_pred):\n",
        "    \"\"\"\n",
        "    Evaluates the model performance.\n",
        "\n",
        "    Parameters:\n",
        "    y_test (numpy array): True target vector.\n",
        "    y_pred (numpy array): Predicted target vector.\n",
        "\n",
        "    Returns:\n",
        "    mse (float): Mean Squared Error.\n",
        "    r2 (float): R-squared value.\n",
        "    \"\"\"\n",
        "    mse = mean_squared_error(y_test, y_pred)\n",
        "    r2 = r2_score(y_test, y_pred)\n",
        "    return mse, r2\n",
        "\n",
        "def kfold_cross_validation(X, y, k=10):\n",
        "    \"\"\"\n",
        "    Performs 10-fold cross-validation for linear regression.\n",
        "\n",
        "    Parameters:\n",
        "    X (numpy array): Feature matrix.\n",
        "    y (numpy array): Target vector.\n",
        "    k (int): Number of folds. Default is 10.\n",
        "\n",
        "    Returns:\n",
        "    float: Mean R^2 score across folds.\n",
        "    \"\"\"\n",
        "    kf = KFold(n_splits=k, shuffle=True, random_state=42)\n",
        "    r2_scores = []\n",
        "\n",
        "    for train_index, test_index in kf.split(X):\n",
        "        X_train, X_test = X[train_index], X[test_index]\n",
        "        y_train, y_test = y[train_index], y[test_index]\n",
        "\n",
        "        theta = train_linear_regression(X_train, y_train)\n",
        "        X_test_b = np.c_[np.ones((X_test.shape[0], 1)), X_test]\n",
        "        y_pred = X_test_b.dot(theta)\n",
        "\n",
        "        # Compute R^2 score\n",
        "        ss_res = np.sum((y_test - y_pred) ** 2)\n",
        "        ss_tot = np.sum((y_test - np.mean(y_test)) ** 2)\n",
        "        r2 = 1 - (ss_res / ss_tot)\n",
        "        r2_scores.append(r2)\n",
        "\n",
        "    return np.mean(r2_scores)"
      ],
      "metadata": {
        "id": "SVFrSPcTchyc"
      },
      "execution_count": 5,
      "outputs": []
    }
  ],
  "metadata": {
    "colab": {
      "collapsed_sections": [
        "oX6yHVawpGhw",
        "mRE3k07npGhx",
        "pq4s2hdBpGhx",
        "IsakOff-pGhz",
        "lNddsNa_pGhz",
        "OTu_BrE9pGh2"
      ],
      "provenance": []
    },
    "kernel": {
      "display_name": "Python 3",
      "language": "python",
      "name": "python3"
    },
    "kernelspec": {
      "display_name": "Python 3 (ipykernel)",
      "language": "python",
      "name": "python3"
    },
    "language_info": {
      "codemirror_mode": {
        "name": "ipython",
        "version": 3
      },
      "file_extension": ".py",
      "mimetype": "text/x-python",
      "name": "python",
      "nbconvert_exporter": "python",
      "pygments_lexer": "ipython3",
      "version": "3.9.19"
    }
  },
  "nbformat": 4,
  "nbformat_minor": 0
}