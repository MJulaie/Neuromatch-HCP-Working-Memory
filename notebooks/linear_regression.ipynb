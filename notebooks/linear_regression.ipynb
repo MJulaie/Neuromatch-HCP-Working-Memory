{
 "cells": [
  {
   "cell_type": "markdown",
   "metadata": {
    "execution": {},
    "id": "MxvKGdOxpGhq"
   },
   "source": [
    "# Linear Regression Functions"
   ]
  },
  {
   "cell_type": "code",
   "execution_count": 5,
   "metadata": {
    "id": "EhwsRR0npGhs"
   },
   "outputs": [],
   "source": [
    "from setup import *\n",
    "from sklearn.model_selection import train_test_split\n",
    "from sklearn.linear_model import LinearRegression\n",
    "from sklearn.metrics import mean_squared_error, r2_score\n",
    "from sklearn.model_selection import KFold\n",
    "import statsmodels.api as sm\n",
    "config = load_config()"
   ]
  },
  {
   "cell_type": "code",
   "execution_count": 2,
   "metadata": {
    "cellView": "form",
    "id": "C2l5Di_HpGhs"
   },
   "outputs": [],
   "source": [
    "#@title Figure settings\n",
    "%matplotlib inline\n",
    "%config InlineBackend.figure_format = 'retina'\n",
    "plt.style.use(\"https://raw.githubusercontent.com/NeuromatchAcademy/course-content/master/nma.mplstyle\")"
   ]
  },
  {
   "cell_type": "markdown",
   "metadata": {},
   "source": [
    "## **Plotting**"
   ]
  },
  {
   "cell_type": "code",
   "execution_count": 1,
   "metadata": {},
   "outputs": [],
   "source": [
    "def plot_connectivity_vs_behavior(X_summary, y, model=None):\n",
    "    \"\"\"\n",
    "    Plot connectivity summary features against behavioral measure and model line.\n",
    "    \n",
    "    Parameters:\n",
    "    X_summary (numpy array): Summary feature matrix.\n",
    "    y (numpy array): Target vector.\n",
    "    model: Trained linear regression model (optional).\n",
    "    \"\"\"\n",
    "    plt.figure(figsize=(10, 6))\n",
    "    plt.scatter(X_summary, y, color='blue', label='Observed data')\n",
    "    \n",
    "    if model is not None:\n",
    "        # Predict using the model\n",
    "        y_pred = model.predict(X_summary)\n",
    "        plt.plot(X_summary, y_pred, color='red', linewidth=2, label='Model prediction')\n",
    "        slope = model.coef_[0]\n",
    "        intercept = model.intercept_\n",
    "        \n",
    "        # Display model parameters on the plot\n",
    "        plt.text(0.05, 0.95, f'Slope: {slope:.4f}\\nIntercept: {intercept:.4f}', \n",
    "                 transform=plt.gca().transAxes, fontsize=12,\n",
    "                 verticalalignment='top', bbox=dict(boxstyle='round,pad=0.3', edgecolor='black', facecolor='white'))\n",
    "    \n",
    "    plt.xlabel('Connectivity Summary Features')\n",
    "    plt.ylabel('Behavioral Measure')\n",
    "    plt.title('Connectivity Summary Features vs. Behavioral Measure')\n",
    "    plt.legend()\n",
    "    plt.grid(True)\n",
    "    plt.show()"
   ]
  },
  {
   "cell_type": "markdown",
   "metadata": {
    "id": "PoQjyGQWcIvb"
   },
   "source": [
    "## **Training and Fitting**"
   ]
  },
  {
   "cell_type": "code",
   "execution_count": 2,
   "metadata": {
    "id": "33mq-lzHX3kx"
   },
   "outputs": [],
   "source": [
    "def train_linear_regression(X_train, y_train):\n",
    "    \"\"\"\n",
    "    Trains a linear regression model.\n",
    "\n",
    "    Parameters:\n",
    "    X_train (numpy array): Training feature matrix.\n",
    "    y_train (numpy array): Training target vector.\n",
    "\n",
    "    Returns:\n",
    "    model: Trained linear regression model.\n",
    "    \"\"\"\n",
    "    model = LinearRegression()\n",
    "    model.fit(X_train, y_train)\n",
    "    return model\n",
    "\n",
    "def predict(model, X_test):\n",
    "    \"\"\"\n",
    "    Makes predictions using the trained linear regression model.\n",
    "\n",
    "    Parameters:\n",
    "    model: Trained linear regression model.\n",
    "    X_test (numpy array): Testing feature matrix.\n",
    "\n",
    "    Returns:\n",
    "    y_pred (numpy array): Predicted target vector.\n",
    "    \"\"\"\n",
    "    y_pred = model.predict(X_test)\n",
    "    return y_pred"
   ]
  },
  {
   "cell_type": "markdown",
   "metadata": {
    "id": "NHPVA-pUcbl4"
   },
   "source": [
    "## **Evaluation Methods**"
   ]
  },
  {
   "cell_type": "code",
   "execution_count": 1,
   "metadata": {
    "id": "SVFrSPcTchyc"
   },
   "outputs": [],
   "source": [
    "def split_data(X, y, test_size=0.2, random_state=42):\n",
    "    \"\"\"\n",
    "    Splits the data into training and testing sets.\n",
    "\n",
    "    Parameters:\n",
    "    X (numpy array): Feature matrix.\n",
    "    y (numpy array): Target vector.\n",
    "    test_size (float): Proportion of the dataset to include in the test split.\n",
    "    random_state (int): Seed used by the random number generator.\n",
    "\n",
    "    Returns:\n",
    "    X_train, X_test, y_train, y_test: Split data.\n",
    "    \"\"\"\n",
    "    X_train, X_test, y_train, y_test = train_test_split(X, y, test_size=test_size, random_state=random_state)\n",
    "    return X_train, X_test, y_train, y_test\n",
    "\n",
    "def evaluate_model_mse(y_test, y_pred):\n",
    "    \"\"\"\n",
    "    Evaluates the model performance.\n",
    "\n",
    "    Parameters:\n",
    "    y_test (numpy array): True target vector.\n",
    "    y_pred (numpy array): Predicted target vector.\n",
    "\n",
    "    Returns:\n",
    "    mse (float): Mean Squared Error.\n",
    "    r2 (float): R-squared value.\n",
    "    \"\"\"\n",
    "    mse = mean_squared_error(y_test, y_pred)\n",
    "    r2 = r2_score(y_test, y_pred)\n",
    "    return mse, r2\n",
    "\n",
    "def compute_p_values(X, y):\n",
    "    \"\"\"\n",
    "    Compute p-values for the coefficients of a linear regression model.\n",
    "    \n",
    "    Parameters:\n",
    "    X (numpy array): Feature matrix.\n",
    "    y (numpy array): Target vector.\n",
    "    \n",
    "    Returns:\n",
    "    p_values (numpy array): p-values for the coefficients.\n",
    "    \"\"\"\n",
    "    # Add a constant (intercept) to the model\n",
    "    X = sm.add_constant(X)\n",
    "    \n",
    "    # Fit the model\n",
    "    model = sm.OLS(y, X).fit()\n",
    "    \n",
    "    # Get p-values\n",
    "    p_values = model.pvalues\n",
    "    return p_values\n",
    "\n",
    "def kfold_cross_validation(X, y, k=10, plotting=True):\n",
    "    \"\"\"\n",
    "    Performs 10-fold cross-validation for linear regression.\n",
    "\n",
    "    Parameters:\n",
    "    X (numpy array): Feature matrix.\n",
    "    y (numpy array): Target vector.\n",
    "    k (int): Number of folds. Default is 10.\n",
    "\n",
    "    Returns:\n",
    "    float: Mean R^2 score across folds.\n",
    "    \"\"\"\n",
    "    kf = KFold(n_splits=k, shuffle=True, random_state=42)\n",
    "    r_scores = []\n",
    "    mse_scores = []\n",
    "    p_scores = []\n",
    "    \n",
    "    for train_index, test_index in kf.split(X):\n",
    "        X_train, X_test = X[train_index], X[test_index]\n",
    "        y_train, y_test = y[train_index], y[test_index]\n",
    "        \n",
    "        model = train_linear_regression(X_train, y_train)\n",
    "        y_pred = predict(model, X_test)\n",
    "        if plotting:\n",
    "            plot_connectivity_vs_behavior(X_summary.reshape(-1, 1), y, model)\n",
    "        \n",
    "        mse, r2 = evaluate_model_mse(y_test, y_pred)\n",
    "        p_value = compute_p_values(X_train, y_train)\n",
    "        r = np.sqrt(r2) if r2 > 0 else 0\n",
    "        r_scores.append(r)\n",
    "        mse_scores.append(mse)\n",
    "        p_scores.append(p_value[1:])\n",
    "    \n",
    "    mean_r = np.mean(r_scores)\n",
    "    mean_mse = np.mean(mse_scores)\n",
    "    mean_p_values = np.mean(np.vstack(p_scores), axis=0)\n",
    "    return mean_r, mean_mse, mean_p_values"
   ]
  }
 ],
 "metadata": {
  "colab": {
   "collapsed_sections": [
    "oX6yHVawpGhw",
    "mRE3k07npGhx",
    "pq4s2hdBpGhx",
    "IsakOff-pGhz",
    "lNddsNa_pGhz",
    "OTu_BrE9pGh2"
   ],
   "provenance": []
  },
  "kernel": {
   "display_name": "Python 3",
   "language": "python",
   "name": "python3"
  },
  "kernelspec": {
   "display_name": "Python 3 (ipykernel)",
   "language": "python",
   "name": "python3"
  },
  "language_info": {
   "codemirror_mode": {
    "name": "ipython",
    "version": 3
   },
   "file_extension": ".py",
   "mimetype": "text/x-python",
   "name": "python",
   "nbconvert_exporter": "python",
   "pygments_lexer": "ipython3",
   "version": "3.11.7"
  }
 },
 "nbformat": 4,
 "nbformat_minor": 4
}
